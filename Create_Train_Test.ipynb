{
 "cells": [
  {
   "cell_type": "code",
   "execution_count": 9,
   "metadata": {},
   "outputs": [],
   "source": [
    "from PIL import Image\n",
    "import glob\n",
    "from random import shuffle"
   ]
  },
  {
   "cell_type": "code",
   "execution_count": 10,
   "metadata": {},
   "outputs": [],
   "source": [
    "path_to_repo = \"/home/asavari/Desktop/AI and CV Assignments for Github/Melanoma-Segmentation-2/\"\n",
    "train_path = path_to_repo + \"code/Train/\"\n",
    "test_path_img = path_to_repo + \"code/Test/Input_Images/\"\n",
    "test_path_mask = path_to_repo + \"code/Test/Masks/\""
   ]
  },
  {
   "cell_type": "code",
   "execution_count": 11,
   "metadata": {},
   "outputs": [],
   "source": [
    "img_filelist = glob.glob(path_to_repo + \"Data/images/*.jpg\");\n",
    "masks_filelist = glob.glob(path_to_repo + \"Data/masks/*.png\");"
   ]
  },
  {
   "cell_type": "code",
   "execution_count": 12,
   "metadata": {},
   "outputs": [
    {
     "data": {
      "text/plain": [
       "True"
      ]
     },
     "execution_count": 12,
     "metadata": {},
     "output_type": "execute_result"
    }
   ],
   "source": [
    "len(img_filelist) == len(masks_filelist)"
   ]
  },
  {
   "cell_type": "code",
   "execution_count": 13,
   "metadata": {},
   "outputs": [],
   "source": [
    "shuffle(masks_filelist)"
   ]
  },
  {
   "cell_type": "code",
   "execution_count": 14,
   "metadata": {},
   "outputs": [],
   "source": [
    "train_percentage = 0.8\n",
    "limit = int (0.8 * len(masks_filelist))"
   ]
  },
  {
   "cell_type": "code",
   "execution_count": 15,
   "metadata": {},
   "outputs": [],
   "source": [
    "masks_train = masks_filelist[0:limit]\n",
    "masks_test  = masks_filelist[limit:]"
   ]
  },
  {
   "cell_type": "code",
   "execution_count": 16,
   "metadata": {},
   "outputs": [],
   "source": [
    "for mask_name in masks_train:\n",
    "    name_new = mask_name[-29:-17] # Removing \"_segmentation.png\" and path \n",
    "    img = Image.open(path_to_repo + \"Data/images/\" + name_new + \".jpg\")\n",
    "    mask = Image.open(path_to_repo + \"Data/masks/\" + name_new + \"_segmentation.png\" )\n",
    "    img = img.resize((384 , 288))\n",
    "    mask = mask.resize((384 , 288))\n",
    "    img.save(train_path + name_new + '.tif')\n",
    "    mask.save(train_path + name_new + '_mask.tif')\n",
    "    \n"
   ]
  },
  {
   "cell_type": "code",
   "execution_count": 17,
   "metadata": {},
   "outputs": [],
   "source": [
    "for mask_name in masks_test:\n",
    "    name_new = mask_name[-29:-17] # Removing \"_segmentation.png\" and path\n",
    "    img = Image.open(path_to_repo + \"Data/images/\" + name_new + \".jpg\")\n",
    "    mask = Image.open(path_to_repo + \"Data/masks/\" + name_new + \"_segmentation.png\" )\n",
    "    img = img.resize((384 , 288))\n",
    "    mask = mask.resize((384 , 288))\n",
    "    img.save(test_path_img + name_new + '.tif')\n",
    "    mask.save(test_path_mask + name_new + '_mask.tif')"
   ]
  },
  {
   "cell_type": "code",
   "execution_count": null,
   "metadata": {},
   "outputs": [],
   "source": []
  }
 ],
 "metadata": {
  "kernelspec": {
   "display_name": "Python 2",
   "language": "python",
   "name": "python2"
  },
  "language_info": {
   "codemirror_mode": {
    "name": "ipython",
    "version": 2
   },
   "file_extension": ".py",
   "mimetype": "text/x-python",
   "name": "python",
   "nbconvert_exporter": "python",
   "pygments_lexer": "ipython2",
   "version": "2.7.12"
  }
 },
 "nbformat": 4,
 "nbformat_minor": 2
}
